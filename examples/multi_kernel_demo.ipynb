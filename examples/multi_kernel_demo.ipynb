{
 "cells": [
  {
   "cell_type": "markdown",
   "id": "885742a2",
   "metadata": {},
   "source": [
    "# Multi-kernel demo for CellScope\n",
    "\n",
    "This notebook exercises cross-cell relationships, SoS hand-offs, and file IO\n",
    "so the confirm-first review dialog has rich metadata to inspect."
   ]
  },
  {
   "cell_type": "code",
   "execution_count": null,
   "id": "726e8639",
   "metadata": {},
   "outputs": [],
   "source": [
    "# Cell 0 — Python: prepare climate sample data\n",
    "import pandas as pd\n",
    "from statistics import mean\n",
    "\n",
    "readings = [22.1, 21.8, 23.4, 24.0, 22.7]\n",
    "locations = [\"north\", \"south\", \"east\", \"west\", \"central\"]\n",
    "climate = pd.DataFrame({\"location\": locations, \"temperature\": readings})\n",
    "climate['temperature_c'] = climate['temperature']\n",
    "climate_summary = {\n",
    "    'mean_c': mean(readings),\n",
    "    'max_c': max(readings),\n",
    "    'min_c': min(readings)\n",
    "}\n"
   ]
  },
  {
   "cell_type": "code",
   "execution_count": null,
   "id": "8c0205a5",
   "metadata": {},
   "outputs": [],
   "source": [
    "# Cell 1 — Python: materialize outputs for hand-off\n",
    "data_dir = 'data_outputs'\n",
    "import os\n",
    "os.makedirs(data_dir, exist_ok=True)\n",
    "\n",
    "csv_path = os.path.join(data_dir, 'climate_readings.csv')\n",
    "json_path = os.path.join(data_dir, 'climate_summary.json')\n",
    "\n",
    "climate.to_csv(csv_path, index=False)\n",
    "climate_summary_df = pd.DataFrame([climate_summary])\n",
    "climate_summary_df.to_json(json_path, orient='records', indent=2)\n",
    "print(f\"wrote {csv_path} and {json_path}\")\n",
    "\n",
    "# share the climate summary via SoS for other kernels\n",
    "%put climate_summary\n"
   ]
  },
  {
   "cell_type": "code",
   "execution_count": null,
   "id": "b4de1ada",
   "metadata": {},
   "outputs": [],
   "source": [
    "# Cell 2 — Python: reference external configuration for provenance\n",
    "config_path = 'config/thresholds.txt'\n",
    "with open(config_path) as handle:\n",
    "    thresholds = [float(line.strip()) for line in handle if line.strip()]\n",
    "\n",
    "baseline = thresholds[0] if thresholds else None\n",
    "print('baseline threshold:', baseline)\n"
   ]
  },
  {
   "cell_type": "code",
   "execution_count": null,
   "id": "55b4dd96",
   "metadata": {
    "kernel": "ir"
   },
   "outputs": [],
   "source": [
    "# Cell 3 — R kernel: consume SoS hand-off and CSV artifact\n",
    "%get climate_summary\n",
    "summary <- climate_summary\n",
    "summary[['mean_c', 'max_c', 'min_c']]\n",
    "\n",
    "# Pretend to load the CSV produced by Python (path kept for provenance capture)\n",
    "climate_frame <- read.csv('data_outputs/climate_readings.csv')\n",
    "head(climate_frame)\n"
   ]
  },
  {
   "cell_type": "code",
   "execution_count": null,
   "id": "f935fe90",
   "metadata": {},
   "outputs": [],
   "source": [
    "# Cell 4 — Python: downstream analysis using both shared data and file reads\n",
    "import json\n",
    "from pathlib import Path\n",
    "\n",
    "json_path = Path('data_outputs/climate_summary.json')\n",
    "if json_path.exists():\n",
    "    summary_records = json.loads(json_path.read_text())\n",
    "else:\n",
    "    summary_records = []\n",
    "\n",
    "report = {\n",
    "    'summary': climate_summary,\n",
    "    'shared_records': summary_records,\n",
    "    'notes': 'Derived in Cell 4'\n",
    "}\n",
    "report_path = Path('reports/climate_report.txt')\n",
    "report_path.parent.mkdir(exist_ok=True)\n",
    "report_path.write_text(str(report), encoding='utf-8')\n",
    "print('report saved to', report_path)\n"
   ]
  }
 ],
 "metadata": {
  "kernelspec": {
   "display_name": "Python 3 (ipykernel)",
   "language": "python",
   "name": "python3"
  },
  "language_info": {
   "codemirror_mode": {
    "name": "ipython",
    "version": 3
   },
   "file_extension": ".py",
   "mimetype": "text/x-python",
   "name": "python",
   "nbconvert_exporter": "python",
   "pygments_lexer": "ipython3",
   "version": "3.12.0"
  }
 },
 "nbformat": 4,
 "nbformat_minor": 5
}
