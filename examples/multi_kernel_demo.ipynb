{
 "cells": [
  {
   "cell_type": "markdown",
   "id": "885742a2",
   "metadata": {},
   "source": [
    "# Multi-kernel demo for CellScope\n",
    "\n",
    "This notebook exercises cross-cell relationships, SoS hand-offs, and file IO\n",
    "so the confirm-first review dialog has rich metadata to inspect."
   ]
  },
  {
   "cell_type": "code",
   "execution_count": 4,
   "id": "726e8639",
   "metadata": {},
   "outputs": [],
   "source": [
    "# Cell 0 — Python: prepare climate sample data\n",
    "import pandas as pd\n",
    "from statistics import mean\n",
    "\n",
    "readings = [22.1, 21.8, 23.4, 24.0, 22.7]\n",
    "locations = [\"north\", \"south\", \"east\", \"west\", \"central\"]\n",
    "climate = pd.DataFrame({\"location\": locations, \"temperature\": readings})\n",
    "climate['temperature_c'] = climate['temperature']\n",
    "climate_summary = {\n",
    "    'mean_c': mean(readings),\n",
    "    'max_c': max(readings),\n",
    "    'min_c': min(readings)\n",
    "}\n"
   ]
  },
  {
   "cell_type": "code",
   "execution_count": 5,
   "id": "8c0205a5",
   "metadata": {},
   "outputs": [
    {
     "name": "stdout",
     "output_type": "stream",
     "text": [
      "wrote data_outputs\\climate_readings.csv and data_outputs\\climate_summary.json\n"
     ]
    },
    {
     "name": "stderr",
     "output_type": "stream",
     "text": [
      "UsageError: Line magic function `%put` not found.\n"
     ]
    }
   ],
   "source": [
    "# Cell 1 — Python: materialize outputs for hand-off\n",
    "data_dir = 'data_outputs'\n",
    "import os\n",
    "os.makedirs(data_dir, exist_ok=True)\n",
    "\n",
    "csv_path = os.path.join(data_dir, 'climate_readings.csv')\n",
    "json_path = os.path.join(data_dir, 'climate_summary.json')\n",
    "\n",
    "climate.to_csv(csv_path, index=False)\n",
    "climate_summary_df = pd.DataFrame([climate_summary])\n",
    "climate_summary_df.to_json(json_path, orient='records', indent=2)\n",
    "print(f\"wrote {csv_path} and {json_path}\")\n",
    "\n",
    "# share the climate summary via SoS for other kernels\n",
    "%put climate_summary\n"
   ]
  },
  {
   "cell_type": "code",
   "execution_count": 7,
   "id": "b4de1ada",
   "metadata": {},
   "outputs": [
    {
     "ename": "FileNotFoundError",
     "evalue": "[Errno 2] No such file or directory: 'config/thresholds.txt'",
     "output_type": "error",
     "traceback": [
      "\u001b[31m---------------------------------------------------------------------------\u001b[39m",
      "\u001b[31mFileNotFoundError\u001b[39m                         Traceback (most recent call last)",
      "\u001b[36mCell\u001b[39m\u001b[36m \u001b[39m\u001b[32mIn[7]\u001b[39m\u001b[32m, line 5\u001b[39m\n\u001b[32m      3\u001b[39m test2 = \u001b[32m3\u001b[39m\n\u001b[32m      4\u001b[39m test3 = \u001b[32m3\u001b[39m\n\u001b[32m----> \u001b[39m\u001b[32m5\u001b[39m \u001b[38;5;28;01mwith\u001b[39;00m \u001b[38;5;28;43mopen\u001b[39;49m\u001b[43m(\u001b[49m\u001b[43mconfig_path\u001b[49m\u001b[43m)\u001b[49m \u001b[38;5;28;01mas\u001b[39;00m handle:\n\u001b[32m      6\u001b[39m     thresholds = [\u001b[38;5;28mfloat\u001b[39m(line.strip()) \u001b[38;5;28;01mfor\u001b[39;00m line \u001b[38;5;129;01min\u001b[39;00m handle \u001b[38;5;28;01mif\u001b[39;00m line.strip()]\n\u001b[32m      8\u001b[39m baseline = thresholds[\u001b[32m0\u001b[39m] \u001b[38;5;28;01mif\u001b[39;00m thresholds \u001b[38;5;28;01melse\u001b[39;00m \u001b[38;5;28;01mNone\u001b[39;00m\n",
      "\u001b[36mFile \u001b[39m\u001b[32m~\\Desktop\\cellscope_platform\\.venv\\Lib\\site-packages\\IPython\\core\\interactiveshell.py:343\u001b[39m, in \u001b[36m_modified_open\u001b[39m\u001b[34m(file, *args, **kwargs)\u001b[39m\n\u001b[32m    336\u001b[39m \u001b[38;5;28;01mif\u001b[39;00m file \u001b[38;5;129;01min\u001b[39;00m {\u001b[32m0\u001b[39m, \u001b[32m1\u001b[39m, \u001b[32m2\u001b[39m}:\n\u001b[32m    337\u001b[39m     \u001b[38;5;28;01mraise\u001b[39;00m \u001b[38;5;167;01mValueError\u001b[39;00m(\n\u001b[32m    338\u001b[39m         \u001b[33mf\u001b[39m\u001b[33m\"\u001b[39m\u001b[33mIPython won\u001b[39m\u001b[33m'\u001b[39m\u001b[33mt let you open fd=\u001b[39m\u001b[38;5;132;01m{\u001b[39;00mfile\u001b[38;5;132;01m}\u001b[39;00m\u001b[33m by default \u001b[39m\u001b[33m\"\u001b[39m\n\u001b[32m    339\u001b[39m         \u001b[33m\"\u001b[39m\u001b[33mas it is likely to crash IPython. If you know what you are doing, \u001b[39m\u001b[33m\"\u001b[39m\n\u001b[32m    340\u001b[39m         \u001b[33m\"\u001b[39m\u001b[33myou can use builtins\u001b[39m\u001b[33m'\u001b[39m\u001b[33m open.\u001b[39m\u001b[33m\"\u001b[39m\n\u001b[32m    341\u001b[39m     )\n\u001b[32m--> \u001b[39m\u001b[32m343\u001b[39m \u001b[38;5;28;01mreturn\u001b[39;00m \u001b[43mio_open\u001b[49m\u001b[43m(\u001b[49m\u001b[43mfile\u001b[49m\u001b[43m,\u001b[49m\u001b[43m \u001b[49m\u001b[43m*\u001b[49m\u001b[43margs\u001b[49m\u001b[43m,\u001b[49m\u001b[43m \u001b[49m\u001b[43m*\u001b[49m\u001b[43m*\u001b[49m\u001b[43mkwargs\u001b[49m\u001b[43m)\u001b[49m\n",
      "\u001b[31mFileNotFoundError\u001b[39m: [Errno 2] No such file or directory: 'config/thresholds.txt'"
     ]
    }
   ],
   "source": [
    "# Cell 2 — Python: reference external configuration for provenance\n",
    "config_path = 'config/thresholds.txt'\n",
    "with open(config_path) as handle:\n",
    "    thresholds = [float(line.strip()) for line in handle if line.strip()]\n",
    "\n",
    "baseline = thresholds[0] if thresholds else None\n",
    "print('baseline threshold:', baseline)\n"
   ]
  },
  {
   "cell_type": "code",
   "execution_count": null,
   "id": "55b4dd96",
   "metadata": {
    "kernel": "ir"
   },
   "outputs": [],
   "source": [
    "# Cell 3 — R kernel: consume SoS hand-off and CSV artifact\n",
    "%get climate_summary\n",
    "summary <- climate_summary\n",
    "summary[['mean_c', 'max_c', 'min_c']]\n",
    "\n",
    "# Pretend to load the CSV produced by Python (path kept for provenance capture)\n",
    "climate_frame <- read.csv('data_outputs/climate_readings.csv')\n",
    "head(climate_frame)\n"
   ]
  },
  {
   "cell_type": "code",
   "execution_count": null,
   "id": "f935fe90",
   "metadata": {},
   "outputs": [],
   "source": [
    "# Cell 4 — Python: downstream analysis using both shared data and file reads\n",
    "import json\n",
    "from pathlib import Path\n",
    "\n",
    "json_path = Path('data_outputs/climate_summary.json')\n",
    "if json_path.exists():\n",
    "    summary_records = json.loads(json_path.read_text())\n",
    "else:\n",
    "    summary_records = []\n",
    "\n",
    "report = {\n",
    "    'summary': climate_summary,\n",
    "    'shared_records': summary_records,\n",
    "    'notes': 'Derived in Cell 4'\n",
    "}\n",
    "report_path = Path('reports/climate_report.txt')\n",
    "report_path.parent.mkdir(exist_ok=True)\n",
    "report_path.write_text(str(report), encoding='utf-8')\n",
    "print('report saved to', report_path)\n"
   ]
  }
 ],
 "metadata": {
  "kernelspec": {
   "display_name": "Python 3 (ipykernel)",
   "language": "python",
   "name": "python3"
  },
  "language_info": {
   "codemirror_mode": {
    "name": "ipython",
    "version": 3
   },
   "file_extension": ".py",
   "mimetype": "text/x-python",
   "name": "python",
   "nbconvert_exporter": "python",
   "pygments_lexer": "ipython3",
   "version": "3.12.0"
  }
 },
 "nbformat": 4,
 "nbformat_minor": 5
}
